{
 "cells": [
  {
   "cell_type": "code",
   "execution_count": 4,
   "metadata": {},
   "outputs": [
    {
     "name": "stdout",
     "output_type": "stream",
     "text": [
      "23.28\n"
     ]
    }
   ],
   "source": [
    "#Q1\n",
    "\n",
    "import numpy as np\n",
    "\n",
    "def compute_vector_length(vector):\n",
    "    norm = np.sqrt(np.sum([v**2 for v in vector]))\n",
    "    return norm\n",
    "\n",
    "vector = np.array([-2,4,9,21])\n",
    "result = compute_vector_length([vector])\n",
    "print(round(result,2))"
   ]
  },
  {
   "cell_type": "code",
   "execution_count": 5,
   "metadata": {},
   "outputs": [
    {
     "name": "stdout",
     "output_type": "stream",
     "text": [
      "4\n"
     ]
    }
   ],
   "source": [
    "#Q2\n",
    "\n",
    "def compute_dot_product(vector_1, vector_2):\n",
    "    result = np.dot(vector_1,vector_2)\n",
    "    return result\n",
    "\n",
    "v1 = np.array([0,1,-1,2])\n",
    "v2 = np.array([2,5,1,0])\n",
    "result = compute_dot_product(v1,v2)\n",
    "print(result) #4\n"
   ]
  },
  {
   "cell_type": "code",
   "execution_count": 6,
   "metadata": {},
   "outputs": [
    {
     "name": "stdout",
     "output_type": "stream",
     "text": [
      "result \n",
      " [ 5 11]\n"
     ]
    }
   ],
   "source": [
    "#Q3\n",
    "\n",
    "x = np.array([[1,2],\n",
    "              [3,4]])\n",
    "k = np.array([1,2])\n",
    "print('result \\n', x.dot(k)) #[5 11]\n"
   ]
  },
  {
   "cell_type": "code",
   "execution_count": 7,
   "metadata": {},
   "outputs": [
    {
     "name": "stdout",
     "output_type": "stream",
     "text": [
      "result \n",
      " [-7 -5]\n"
     ]
    }
   ],
   "source": [
    "#Q4\n",
    "\n",
    "x = np.array([[-11,2],\n",
    "              [3,-4]])\n",
    "k = np.array([1,2])\n",
    "print('result \\n', x@k) #[-7 -5]\n"
   ]
  },
  {
   "cell_type": "code",
   "execution_count": 8,
   "metadata": {},
   "outputs": [
    {
     "name": "stdout",
     "output_type": "stream",
     "text": [
      "[3 1]\n"
     ]
    }
   ],
   "source": [
    "#Q5\n",
    "\n",
    "def matrix_multi_vector(m, v):\n",
    "    result = m @ v\n",
    "    return result\n",
    "\n",
    "m = np.array([[-1,1,1],\n",
    "              [0,-4,9]])\n",
    "v = np.array([0,2,1])\n",
    "result = matrix_multi_vector(m, v)\n",
    "print(result)"
   ]
  },
  {
   "cell_type": "code",
   "execution_count": 9,
   "metadata": {},
   "outputs": [
    {
     "name": "stdout",
     "output_type": "stream",
     "text": [
      "[[  6  -1]\n",
      " [-16 -10]]\n"
     ]
    }
   ],
   "source": [
    "#Q6\n",
    "\n",
    "def matrix_multi_matrix(m1,m2):\n",
    "    result = m1 @ m2\n",
    "    return result\n",
    "\n",
    "m1 = np.array ([[0 , 1, 2], [2, -3, 1]])\n",
    "m2 = np.array ([[1 , -3] ,[6 , 1], [0, -1]])\n",
    "result = matrix_multi_matrix (m1 , m2)\n",
    "print(result)\n"
   ]
  },
  {
   "cell_type": "code",
   "execution_count": 10,
   "metadata": {},
   "outputs": [
    {
     "name": "stdout",
     "output_type": "stream",
     "text": [
      "[[1. 1. 1.]\n",
      " [2. 2. 2.]\n",
      " [3. 3. 3.]]\n"
     ]
    }
   ],
   "source": [
    "#Q7\n",
    "\n",
    "m1 = np.eye(3)\n",
    "m2 = np.array([[1,1,1],\n",
    "               [2,2,2],\n",
    "               [3,3,3]])\n",
    "result = m1@m2\n",
    "print(result)"
   ]
  },
  {
   "cell_type": "code",
   "execution_count": 11,
   "metadata": {},
   "outputs": [
    {
     "name": "stdout",
     "output_type": "stream",
     "text": [
      "[5. 5. 5. 5.]\n"
     ]
    }
   ],
   "source": [
    "#Q8\n",
    "\n",
    "m1 = np.eye(2)\n",
    "m1 = np.reshape(m1, (-1,4))[0]\n",
    "m2 = np.array([[1,1,1,1],\n",
    "               [2,2,2,2],\n",
    "               [3,3,3,3],\n",
    "               [4,4,4,4]])\n",
    "result = m1@m2\n",
    "print(result)"
   ]
  },
  {
   "cell_type": "code",
   "execution_count": 12,
   "metadata": {},
   "outputs": [
    {
     "name": "stdout",
     "output_type": "stream",
     "text": [
      "[29 29 29 29]\n"
     ]
    }
   ],
   "source": [
    "#Q9\n",
    "\n",
    "m1 = np.array([[1,2],[3,4]])\n",
    "m1 = np.reshape(m1, (-1,4), \"F\")[0]\n",
    "m2 = np.array([[1,1,1,1],\n",
    "               [2,2,2,2],\n",
    "               [3,3,3,3],\n",
    "               [4,4,4,4]])\n",
    "result = m1@m2\n",
    "print(result)"
   ]
  },
  {
   "cell_type": "code",
   "execution_count": 13,
   "metadata": {},
   "outputs": [
    {
     "name": "stdout",
     "output_type": "stream",
     "text": [
      "[[-2.   1. ]\n",
      " [ 1.5 -0.5]]\n"
     ]
    }
   ],
   "source": [
    "#Q10\n",
    "\n",
    "def inverse_matrix(matrix):\n",
    "    inv_matrix = np.linalg.inv(matrix)\n",
    "    return inv_matrix\n",
    "\n",
    "m1 = np.array([[1,2], [3,4]])\n",
    "result = inverse_matrix(m1)\n",
    "print(result)\n"
   ]
  },
  {
   "cell_type": "code",
   "execution_count": 14,
   "metadata": {},
   "outputs": [
    {
     "name": "stdout",
     "output_type": "stream",
     "text": [
      "[[ 0.89442719 -0.70710678]\n",
      " [ 0.4472136   0.70710678]]\n"
     ]
    }
   ],
   "source": [
    "#Q11\n",
    "\n",
    "def compute_eigenvalues_eigenvectors(matrix):\n",
    "    eigenvalues, eigenvectors = np.linalg.eig(matrix)\n",
    "    return eigenvalues, eigenvectors\n",
    "\n",
    "matrix = np.array([[0.9,0.2],\n",
    "                   [0.1,0.8]])\n",
    "eigenvalues, eigenvectors = compute_eigenvalues_eigenvectors(matrix)\n",
    "print(eigenvectors)"
   ]
  },
  {
   "cell_type": "code",
   "execution_count": 15,
   "metadata": {},
   "outputs": [
    {
     "name": "stdout",
     "output_type": "stream",
     "text": [
      "0.577\n"
     ]
    }
   ],
   "source": [
    "#Q12\n",
    "\n",
    "def compute_cosine(x,y):\n",
    "    result = np.dot(x,y)/(np.linalg.norm(x)*np.linalg.norm(y))\n",
    "    return result\n",
    "\n",
    "x = np.array([1,2,3,4])\n",
    "y = np.array([1,0,3,0])\n",
    "result = compute_cosine(x,y)\n",
    "print(round(result,3))"
   ]
  }
 ],
 "metadata": {
  "kernelspec": {
   "display_name": "Python 3",
   "language": "python",
   "name": "python3"
  },
  "language_info": {
   "codemirror_mode": {
    "name": "ipython",
    "version": 3
   },
   "file_extension": ".py",
   "mimetype": "text/x-python",
   "name": "python",
   "nbconvert_exporter": "python",
   "pygments_lexer": "ipython3",
   "version": "3.11.9"
  }
 },
 "nbformat": 4,
 "nbformat_minor": 2
}
